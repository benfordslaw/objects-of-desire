{
 "cells": [
  {
   "cell_type": "code",
   "execution_count": 1,
   "metadata": {},
   "outputs": [],
   "source": [
    "import random"
   ]
  },
  {
   "cell_type": "code",
   "execution_count": 2,
   "metadata": {},
   "outputs": [],
   "source": [
    "desires = open(\"object-of-desire-prose-sorted.txt\").read().replace('_', '').split('\\n')"
   ]
  },
  {
   "cell_type": "code",
   "execution_count": 3,
   "metadata": {
    "scrolled": true
   },
   "outputs": [
    {
     "name": "stdout",
     "output_type": "stream",
     "text": [
      "Do you have his daughter?\n",
      "    or him?\n",
      "    or so much?\n",
      "    or it?\n",
      "    or black applicants?\n",
      "    or any qualified geneticists or genetic engineers?\n"
     ]
    }
   ],
   "source": [
    "print(\"Do you have \" + random.choice(desires).lower() + \"?\")\n",
    "for i in range(5):\n",
    "    print(\"    or \" + random.choice(desires).lower() + \"?\")"
   ]
  },
  {
   "cell_type": "code",
   "execution_count": 4,
   "metadata": {},
   "outputs": [],
   "source": [
    "import tracery"
   ]
  },
  {
   "cell_type": "code",
   "execution_count": 5,
   "metadata": {},
   "outputs": [
    {
     "name": "stdout",
     "output_type": "stream",
     "text": [
      "\n",
      "Do you have us?\n",
      "    or the diamond necklace you gave me?\n",
      "\n",
      "What about only one thing?\n"
     ]
    }
   ],
   "source": [
    "rules = {\n",
    "    \"desire\" : desires,\n",
    "    \"and\": [\" and #desire##and#\", \"?\"],\n",
    "    \"or\": [\"\\n    or #desire##and##or#\", \"\"],\n",
    "    \"do_you\": [\"\\nDo you have #desire##and##or##do_you#\", \"\\nDo you have #desire##and##or#\\n#what_about#\"],\n",
    "    \"what_about\": [\"\\nWhat about #desire##and##or##what_about#\", \"\\nWhat about #desire##and##or#\"]\n",
    "}\n",
    "\n",
    "grammar = tracery.Grammar(rules)\n",
    "print(grammar.flatten(\"#do_you#\"))"
   ]
  },
  {
   "cell_type": "code",
   "execution_count": 6,
   "metadata": {},
   "outputs": [],
   "source": [
    "counts = dict()\n",
    "for i in desires:\n",
    "  counts[i] = counts.get(i, 0) + 1"
   ]
  },
  {
   "cell_type": "code",
   "execution_count": 7,
   "metadata": {},
   "outputs": [],
   "source": [
    "from operator import itemgetter\n",
    "full_sort = sorted(counts.items(), key=itemgetter(1), reverse=True)"
   ]
  },
  {
   "cell_type": "code",
   "execution_count": 8,
   "metadata": {},
   "outputs": [],
   "source": [
    "common = [pair[0] for pair in full_sort if pair[1] >= 10]\n",
    "rare = [pair[0] for pair in full_sort if pair[1] <= 2]"
   ]
  },
  {
   "cell_type": "code",
   "execution_count": 9,
   "metadata": {},
   "outputs": [
    {
     "name": "stdout",
     "output_type": "stream",
     "text": [
      "if you have a beam that will be deadly where it hits\n",
      "    and some extra cash\n",
      "    and if you have the thirdpremolar\n",
      "please email me at bennyk846@gmail.com\n"
     ]
    }
   ],
   "source": [
    "rules = {\n",
    "    \"looking_for\": \"if you have #this##new_line##someone#\",\n",
    "    \"this\": [\"#thing#\", \"#thing# and #this#\"],\n",
    "    \"new_line\": [\"\\n    and #this##new_line#\", \"\"],\n",
    "    \"someone\": [\"\\nplease email me at bennyk846@gmail.com\", \"\\n    and #looking_for#\"],\n",
    "    \"thing\": rare\n",
    "}\n",
    "\n",
    "grammar = tracery.Grammar(rules)\n",
    "print(grammar.flatten(\"#looking_for#\"))"
   ]
  }
 ],
 "metadata": {
  "kernelspec": {
   "display_name": "Python 3",
   "language": "python",
   "name": "python3"
  },
  "language_info": {
   "codemirror_mode": {
    "name": "ipython",
    "version": 3
   },
   "file_extension": ".py",
   "mimetype": "text/x-python",
   "name": "python",
   "nbconvert_exporter": "python",
   "pygments_lexer": "ipython3",
   "version": "3.8.5"
  }
 },
 "nbformat": 4,
 "nbformat_minor": 4
}
